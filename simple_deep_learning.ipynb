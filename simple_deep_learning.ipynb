{
  "nbformat": 4,
  "nbformat_minor": 0,
  "metadata": {
    "colab": {
      "name": "simple_deep_learning.ipynb",
      "provenance": [],
      "authorship_tag": "ABX9TyONfg83tmKTXUAvqejvKjE8",
      "include_colab_link": true
    },
    "kernelspec": {
      "name": "python3",
      "display_name": "Python 3"
    },
    "language_info": {
      "name": "python"
    }
  },
  "cells": [
    {
      "cell_type": "markdown",
      "metadata": {
        "id": "view-in-github",
        "colab_type": "text"
      },
      "source": [
        "<a href=\"https://colab.research.google.com/github/takasshii/deeplearning_udemy/blob/main/simple_deep_learning.ipynb\" target=\"_parent\"><img src=\"https://colab.research.google.com/assets/colab-badge.svg\" alt=\"Open In Colab\"/></a>"
      ]
    },
    {
      "cell_type": "markdown",
      "source": [
        "##シンプルなディープランニング"
      ],
      "metadata": {
        "id": "R4H1VoPpkmAV"
      }
    },
    {
      "cell_type": "markdown",
      "source": [
        "公式ドキュメント\n",
        "Irisデータセットを読み込みます。\n",
        "\n",
        "https://scikit-learn.org/stable/auto_examples/datasets/plot_iris_dataset.html\n",
        "\n",
        "標準化は、平均値が0、標準偏差が1になるように変換する処理です。\n",
        "\n",
        "https://scikit-learn.org/stable/modules/preprocessing.html\n",
        "\n",
        "one-hot表現は、一箇所だけ1で残りは０の配列です。\n",
        "\n",
        "https://keras.io/ja/utils/np_utils/\n",
        "\n",
        "データを訓練用のデータとテスト用のデータに分割します。\n",
        "\n",
        "https://scikit-learn.org/stable/modules/generated/sklearn.model_selection.train_test_split.html"
      ],
      "metadata": {
        "id": "fNv26ZpopKRv"
      }
    },
    {
      "cell_type": "code",
      "source": [
        "#データの読み込み\n",
        "import numpy as np\n",
        "from sklearn import datasets\n",
        "\n",
        "iris = datasets.load_iris()\n",
        "print(iris.data[:10])\n",
        "print(iris.target[:10])\n",
        "print(iris.data.shape)"
      ],
      "metadata": {
        "colab": {
          "base_uri": "https://localhost:8080/"
        },
        "id": "GliwahNPkoBr",
        "outputId": "1418ad73-f988-498a-e2bb-9a576ed7e34c"
      },
      "execution_count": 3,
      "outputs": [
        {
          "output_type": "stream",
          "name": "stdout",
          "text": [
            "[[5.1 3.5 1.4 0.2]\n",
            " [4.9 3.  1.4 0.2]\n",
            " [4.7 3.2 1.3 0.2]\n",
            " [4.6 3.1 1.5 0.2]\n",
            " [5.  3.6 1.4 0.2]\n",
            " [5.4 3.9 1.7 0.4]\n",
            " [4.6 3.4 1.4 0.3]\n",
            " [5.  3.4 1.5 0.2]\n",
            " [4.4 2.9 1.4 0.2]\n",
            " [4.9 3.1 1.5 0.1]]\n",
            "[0 0 0 0 0 0 0 0 0 0]\n",
            "(150, 4)\n"
          ]
        }
      ]
    },
    {
      "cell_type": "code",
      "source": [
        "#前処理\n",
        "from sklearn import preprocessing\n",
        "from keras.utils import np_utils\n",
        "\n",
        "#標準化 \n",
        "#データから平均値を引いて、標準偏差で割ったもの\n",
        "#平均値を０になり、広がり具合が標準偏差になる\n",
        "scaler = preprocessing.StandardScaler()\n",
        "scaler.fit(iris.data)\n",
        "x = scaler.transform(iris.data)\n",
        "print(x[:10])\n",
        "\n",
        "#one-hot表現にする（ひとつだけ1に）\n",
        "t = np_utils.to_categorical(iris.target)\n",
        "print(t[:10])\n"
      ],
      "metadata": {
        "colab": {
          "base_uri": "https://localhost:8080/"
        },
        "id": "V-0nZcFulH7F",
        "outputId": "8edd4d71-8990-4892-fba6-222f73ae22f1"
      },
      "execution_count": 7,
      "outputs": [
        {
          "output_type": "stream",
          "name": "stdout",
          "text": [
            "[[-0.90068117  1.01900435 -1.34022653 -1.3154443 ]\n",
            " [-1.14301691 -0.13197948 -1.34022653 -1.3154443 ]\n",
            " [-1.38535265  0.32841405 -1.39706395 -1.3154443 ]\n",
            " [-1.50652052  0.09821729 -1.2833891  -1.3154443 ]\n",
            " [-1.02184904  1.24920112 -1.34022653 -1.3154443 ]\n",
            " [-0.53717756  1.93979142 -1.16971425 -1.05217993]\n",
            " [-1.50652052  0.78880759 -1.34022653 -1.18381211]\n",
            " [-1.02184904  0.78880759 -1.2833891  -1.3154443 ]\n",
            " [-1.74885626 -0.36217625 -1.34022653 -1.3154443 ]\n",
            " [-1.14301691  0.09821729 -1.2833891  -1.44707648]]\n",
            "[[1. 0. 0.]\n",
            " [1. 0. 0.]\n",
            " [1. 0. 0.]\n",
            " [1. 0. 0.]\n",
            " [1. 0. 0.]\n",
            " [1. 0. 0.]\n",
            " [1. 0. 0.]\n",
            " [1. 0. 0.]\n",
            " [1. 0. 0.]\n",
            " [1. 0. 0.]]\n"
          ]
        }
      ]
    },
    {
      "cell_type": "code",
      "source": [
        "#訓練データとテストデータ\n",
        "from sklearn.model_selection import train_test_split\n",
        "\n",
        "#訓練用とテスト用のデータに分ける\n",
        "x_train, x_test, t_train, t_test = train_test_split(x, t, train_size=0.75)\n",
        "print(x_train.shape) #75%が訓練用\n",
        "print(x_test.shape)"
      ],
      "metadata": {
        "colab": {
          "base_uri": "https://localhost:8080/"
        },
        "id": "u4agNlJOm7ZD",
        "outputId": "fbca2a6c-ef48-4269-974b-d9eb686101b7"
      },
      "execution_count": 11,
      "outputs": [
        {
          "output_type": "stream",
          "name": "stdout",
          "text": [
            "(112, 4)\n",
            "(38, 4)\n"
          ]
        }
      ]
    },
    {
      "cell_type": "markdown",
      "source": [
        "##モデルの構築"
      ],
      "metadata": {
        "id": "x7PEARqgra3j"
      }
    },
    {
      "cell_type": "code",
      "source": [
        "from keras.models import Sequential\n",
        "from keras.layers import Dense, Activation\n",
        "\n",
        "#層を積み重ねる\n",
        "model = Sequential()\n",
        "\n",
        "#1→中間層のニューロンの数 2→入力層のニューロンの数(引数が4になるから)\n",
        "model.add(Dense(32, input_dim=4))\n",
        "#活性化関数(relu関数,層の数が増えても勾配消失が起こりにくいため採用)\n",
        "model.add(Activation(\"relu\"))\n",
        "model.add(Dense(32))\n",
        "model.add(Activation(\"relu\"))\n",
        "#出力層(出力が３種類なので)\n",
        "model.add(Dense(3))\n",
        "#活性化関数がsoftmax関数\n",
        "model.add(Activation(\"softmax\"))\n",
        "#optimaizer→最適化アルゴリズム, loss→出力と正解の誤差を定義する(交差エントロピー), metrix→精度がどれくらいか表示 \n",
        "model.compile(optimizer='sgd',loss='categorical_crossentropy',metrics=['accuracy'])\n",
        "\n",
        "model.summary()"
      ],
      "metadata": {
        "colab": {
          "base_uri": "https://localhost:8080/"
        },
        "id": "oF5VhGzCqYXt",
        "outputId": "94532834-2188-4fb1-b395-78ca953d49ae"
      },
      "execution_count": 26,
      "outputs": [
        {
          "output_type": "stream",
          "name": "stdout",
          "text": [
            "Model: \"sequential_12\"\n",
            "_________________________________________________________________\n",
            " Layer (type)                Output Shape              Param #   \n",
            "=================================================================\n",
            " dense_36 (Dense)            (None, 32)                160       \n",
            "                                                                 \n",
            " activation_36 (Activation)  (None, 32)                0         \n",
            "                                                                 \n",
            " dense_37 (Dense)            (None, 32)                1056      \n",
            "                                                                 \n",
            " activation_37 (Activation)  (None, 32)                0         \n",
            "                                                                 \n",
            " dense_38 (Dense)            (None, 3)                 99        \n",
            "                                                                 \n",
            " activation_38 (Activation)  (None, 3)                 0         \n",
            "                                                                 \n",
            "=================================================================\n",
            "Total params: 1,315\n",
            "Trainable params: 1,315\n",
            "Non-trainable params: 0\n",
            "_________________________________________________________________\n"
          ]
        }
      ]
    },
    {
      "cell_type": "markdown",
      "source": [
        "####desne_1\n",
        "\n",
        "入力×ニューロン数＋バイアスの数\n",
        "32×4+32=160\n",
        "\n",
        "####dense_2\n",
        "\n",
        "前のニューロン数×次のニューロン数＋バイアスの数\n",
        "32×32+32"
      ],
      "metadata": {
        "id": "nQE8tULW5J4Y"
      }
    },
    {
      "cell_type": "markdown",
      "source": [
        "##学習"
      ],
      "metadata": {
        "id": "No6koyNE6NrI"
      }
    },
    {
      "cell_type": "code",
      "source": [
        "#全ての訓練データを使い切ると1エポックという→30回訓練データを使うようにする\n",
        "#batch_size→訓練データを8つに分ける\n",
        "history = model.fit(x_train, t_train, epochs=30, batch_size=8)\n",
        "\n",
        "#lossが誤差関数　accuracyが正解率"
      ],
      "metadata": {
        "colab": {
          "base_uri": "https://localhost:8080/"
        },
        "id": "NnPeVVdi3kYl",
        "outputId": "1b0fbc6c-2d8d-4946-cc6f-3cf81e0a9fb0"
      },
      "execution_count": 34,
      "outputs": [
        {
          "output_type": "stream",
          "name": "stdout",
          "text": [
            "Epoch 1/30\n",
            "14/14 [==============================] - 0s 2ms/step - loss: 0.2973 - accuracy: 0.8750\n",
            "Epoch 2/30\n",
            "14/14 [==============================] - 0s 2ms/step - loss: 0.2905 - accuracy: 0.8750\n",
            "Epoch 3/30\n",
            "14/14 [==============================] - 0s 2ms/step - loss: 0.2840 - accuracy: 0.8750\n",
            "Epoch 4/30\n",
            "14/14 [==============================] - 0s 2ms/step - loss: 0.2785 - accuracy: 0.8750\n",
            "Epoch 5/30\n",
            "14/14 [==============================] - 0s 2ms/step - loss: 0.2724 - accuracy: 0.8929\n",
            "Epoch 6/30\n",
            "14/14 [==============================] - 0s 2ms/step - loss: 0.2664 - accuracy: 0.8929\n",
            "Epoch 7/30\n",
            "14/14 [==============================] - 0s 2ms/step - loss: 0.2603 - accuracy: 0.8929\n",
            "Epoch 8/30\n",
            "14/14 [==============================] - 0s 2ms/step - loss: 0.2550 - accuracy: 0.9018\n",
            "Epoch 9/30\n",
            "14/14 [==============================] - 0s 2ms/step - loss: 0.2498 - accuracy: 0.9107\n",
            "Epoch 10/30\n",
            "14/14 [==============================] - 0s 2ms/step - loss: 0.2443 - accuracy: 0.9107\n",
            "Epoch 11/30\n",
            "14/14 [==============================] - 0s 2ms/step - loss: 0.2395 - accuracy: 0.9107\n",
            "Epoch 12/30\n",
            "14/14 [==============================] - 0s 2ms/step - loss: 0.2342 - accuracy: 0.9107\n",
            "Epoch 13/30\n",
            "14/14 [==============================] - 0s 2ms/step - loss: 0.2296 - accuracy: 0.9196\n",
            "Epoch 14/30\n",
            "14/14 [==============================] - 0s 2ms/step - loss: 0.2252 - accuracy: 0.9286\n",
            "Epoch 15/30\n",
            "14/14 [==============================] - 0s 2ms/step - loss: 0.2197 - accuracy: 0.9286\n",
            "Epoch 16/30\n",
            "14/14 [==============================] - 0s 2ms/step - loss: 0.2157 - accuracy: 0.9286\n",
            "Epoch 17/30\n",
            "14/14 [==============================] - 0s 2ms/step - loss: 0.2103 - accuracy: 0.9286\n",
            "Epoch 18/30\n",
            "14/14 [==============================] - 0s 2ms/step - loss: 0.2061 - accuracy: 0.9375\n",
            "Epoch 19/30\n",
            "14/14 [==============================] - 0s 2ms/step - loss: 0.2025 - accuracy: 0.9464\n",
            "Epoch 20/30\n",
            "14/14 [==============================] - 0s 2ms/step - loss: 0.1976 - accuracy: 0.9464\n",
            "Epoch 21/30\n",
            "14/14 [==============================] - 0s 2ms/step - loss: 0.1941 - accuracy: 0.9554\n",
            "Epoch 22/30\n",
            "14/14 [==============================] - 0s 2ms/step - loss: 0.1892 - accuracy: 0.9554\n",
            "Epoch 23/30\n",
            "14/14 [==============================] - 0s 2ms/step - loss: 0.1850 - accuracy: 0.9643\n",
            "Epoch 24/30\n",
            "14/14 [==============================] - 0s 2ms/step - loss: 0.1806 - accuracy: 0.9643\n",
            "Epoch 25/30\n",
            "14/14 [==============================] - 0s 2ms/step - loss: 0.1770 - accuracy: 0.9732\n",
            "Epoch 26/30\n",
            "14/14 [==============================] - 0s 2ms/step - loss: 0.1731 - accuracy: 0.9732\n",
            "Epoch 27/30\n",
            "14/14 [==============================] - 0s 2ms/step - loss: 0.1695 - accuracy: 0.9732\n",
            "Epoch 28/30\n",
            "14/14 [==============================] - 0s 2ms/step - loss: 0.1660 - accuracy: 0.9732\n",
            "Epoch 29/30\n",
            "14/14 [==============================] - 0s 4ms/step - loss: 0.1622 - accuracy: 0.9732\n",
            "Epoch 30/30\n",
            "14/14 [==============================] - 0s 6ms/step - loss: 0.1586 - accuracy: 0.9821\n"
          ]
        }
      ]
    },
    {
      "cell_type": "markdown",
      "source": [
        "##学習の推移"
      ],
      "metadata": {
        "id": "A9T8WByz7aQ8"
      }
    },
    {
      "cell_type": "code",
      "source": [
        "import matplotlib.pyplot as plt\n",
        "\n",
        "hist_loss = history.history['loss']\n",
        "hist_acc = history.history['accuracy']\n",
        "\n",
        "#hist_lossの数だけ整数が与えられる\n",
        "#(x,y,label)\n",
        "plt.plot(np.arange(len(hist_loss)), hist_loss, label = 'loss')\n",
        "plt.plot(np.arange(len(hist_acc)), hist_acc, label = 'acc')\n",
        "plt.legend()\n",
        "plt.show()"
      ],
      "metadata": {
        "colab": {
          "base_uri": "https://localhost:8080/",
          "height": 265
        },
        "id": "BSts3L_55Jl0",
        "outputId": "f109756b-98ad-4c3c-c65c-c871203917ef"
      },
      "execution_count": 32,
      "outputs": [
        {
          "output_type": "display_data",
          "data": {
            "image/png": "[encoded data removed]",
            "text/plain": [
              "<Figure size 432x288 with 1 Axes>"
            ]
          },
          "metadata": {
            "needs_background": "light"
          }
        }
      ]
    },
    {
      "cell_type": "markdown",
      "source": [
        "##評価"
      ],
      "metadata": {
        "id": "JNqpBtMu882E"
      }
    },
    {
      "cell_type": "code",
      "source": [
        "#テスト用の入力と正解を用いて誤差を表示する\n",
        "loss, accuracy = model.evaluate(x_test, t_test)\n",
        "print(loss,accuracy)"
      ],
      "metadata": {
        "colab": {
          "base_uri": "https://localhost:8080/"
        },
        "id": "XROjt-md88iy",
        "outputId": "87b7f390-bca0-4a46-e1f0-e94ca2d9a292"
      },
      "execution_count": 35,
      "outputs": [
        {
          "output_type": "stream",
          "name": "stdout",
          "text": [
            "2/2 [==============================] - 0s 8ms/step - loss: 0.3179 - accuracy: 0.8684\n",
            "0.3179198205471039 0.8684210777282715\n"
          ]
        }
      ]
    },
    {
      "cell_type": "markdown",
      "source": [
        "##予測"
      ],
      "metadata": {
        "id": "dmuIRSzb9aZ-"
      }
    },
    {
      "cell_type": "code",
      "source": [
        "model.predict(x_test)"
      ],
      "metadata": {
        "colab": {
          "base_uri": "https://localhost:8080/"
        },
        "id": "oSVUbEaM9R1V",
        "outputId": "79109b66-da83-4ecd-bae1-be15c5a7372f"
      },
      "execution_count": 36,
      "outputs": [
        {
          "output_type": "execute_result",
          "data": {
            "text/plain": [
              "array([[9.9662966e-01, 2.1352747e-03, 1.2349664e-03],\n",
              "       [2.2114750e-02, 9.2802495e-01, 4.9860284e-02],\n",
              "       [2.2483299e-02, 9.3058717e-01, 4.6929479e-02],\n",
              "       [1.1926590e-02, 8.6128366e-01, 1.2678982e-01],\n",
              "       [1.4989929e-02, 9.5374066e-01, 3.1269334e-02],\n",
              "       [2.9636161e-02, 8.7433481e-01, 9.6029088e-02],\n",
              "       [3.5628513e-02, 3.2013756e-01, 6.4423388e-01],\n",
              "       [9.9758875e-01, 1.0370649e-03, 1.3741106e-03],\n",
              "       [2.2352723e-02, 6.5708333e-01, 3.2056394e-01],\n",
              "       [3.4330104e-02, 8.8611341e-01, 7.9556480e-02],\n",
              "       [3.4432936e-02, 7.0096362e-01, 2.6460350e-01],\n",
              "       [1.0835996e-03, 5.7631120e-02, 9.4128525e-01],\n",
              "       [1.4388711e-02, 2.1583360e-01, 7.6977772e-01],\n",
              "       [9.9673343e-01, 1.6662845e-03, 1.6002610e-03],\n",
              "       [2.0612037e-02, 3.4378117e-01, 6.3560671e-01],\n",
              "       [9.9527514e-01, 2.5953327e-03, 2.1294414e-03],\n",
              "       [2.2467541e-02, 9.2406106e-01, 5.3471331e-02],\n",
              "       [5.0584292e-03, 5.8656253e-02, 9.3628532e-01],\n",
              "       [4.8423629e-02, 7.2050333e-01, 2.3107304e-01],\n",
              "       [1.1987000e-03, 5.8492288e-02, 9.4030905e-01],\n",
              "       [5.9061550e-02, 8.2341176e-01, 1.1752659e-01],\n",
              "       [9.9758279e-01, 1.4678718e-03, 9.4930502e-04],\n",
              "       [1.4854345e-02, 9.4210571e-01, 4.3039896e-02],\n",
              "       [9.9333715e-01, 4.7386815e-03, 1.9241059e-03],\n",
              "       [4.5562644e-02, 8.1422079e-01, 1.4021651e-01],\n",
              "       [1.5706673e-02, 7.4817264e-01, 2.3612070e-01],\n",
              "       [3.1461995e-03, 6.8928413e-02, 9.2792541e-01],\n",
              "       [1.3970594e-02, 9.5858282e-01, 2.7446641e-02],\n",
              "       [5.7620862e-03, 9.0418197e-02, 9.0381968e-01],\n",
              "       [2.7531074e-02, 3.2490206e-01, 6.4756691e-01],\n",
              "       [2.3950883e-03, 2.4754565e-02, 9.7285032e-01],\n",
              "       [9.9496019e-01, 2.4913163e-03, 2.5484329e-03],\n",
              "       [7.3126662e-03, 9.6848732e-01, 2.4200018e-02],\n",
              "       [2.0701163e-02, 6.2008357e-01, 3.5921532e-01],\n",
              "       [9.9539161e-01, 2.5895664e-03, 2.0189271e-03],\n",
              "       [2.4204193e-02, 3.0233473e-01, 6.7346108e-01],\n",
              "       [9.9834430e-01, 7.3731464e-04, 9.1847271e-04],\n",
              "       [1.7412471e-02, 3.8518524e-01, 5.9740233e-01]], dtype=float32)"
            ]
          },
          "metadata": {},
          "execution_count": 36
        }
      ]
    },
    {
      "cell_type": "markdown",
      "source": [
        "##保存"
      ],
      "metadata": {
        "id": "PoRgRhr59021"
      }
    },
    {
      "cell_type": "code",
      "source": [
        "from keras.models import load_model\n",
        "\n",
        "model.save('model.h5')\n",
        "load_model('model.h5')"
      ],
      "metadata": {
        "colab": {
          "base_uri": "https://localhost:8080/"
        },
        "id": "AWznI1z493Fm",
        "outputId": "2b69fc77-c286-425b-8b4e-c9209ad367ad"
      },
      "execution_count": 37,
      "outputs": [
        {
          "output_type": "execute_result",
          "data": {
            "text/plain": [
              "<keras.engine.sequential.Sequential at 0x7fbd738ab490>"
            ]
          },
          "metadata": {},
          "execution_count": 37
        }
      ]
    }
  ]
}