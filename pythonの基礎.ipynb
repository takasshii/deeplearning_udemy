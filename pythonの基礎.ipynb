{
  "nbformat": 4,
  "nbformat_minor": 0,
  "metadata": {
    "colab": {
      "name": "pythonの基礎.ipynb",
      "provenance": [],
      "authorship_tag": "ABX9TyNZ1dgIRDfwocbKBnBEnv0U",
      "include_colab_link": true
    },
    "kernelspec": {
      "name": "python3",
      "display_name": "Python 3"
    },
    "language_info": {
      "name": "python"
    }
  },
  "cells": [
    {
      "cell_type": "markdown",
      "metadata": {
        "id": "view-in-github",
        "colab_type": "text"
      },
      "source": [
        "<a href=\"https://colab.research.google.com/github/takasshii/deeplearning_udemy/blob/main/python%E3%81%AE%E5%9F%BA%E7%A4%8E.ipynb\" target=\"_parent\"><img src=\"https://colab.research.google.com/assets/colab-badge.svg\" alt=\"Open In Colab\"/></a>"
      ]
    },
    {
      "cell_type": "markdown",
      "source": [
        "##タプル\n",
        "挿入や削除といった操作ができない以外はリストと同じである。\n",
        "()で囲むことでタプルになる。"
      ],
      "metadata": {
        "id": "W6ITZLHHCOn7"
      }
    },
    {
      "cell_type": "code",
      "source": [
        "a = (1, 2, 3, 4, 5)     # タプルの作成\n",
        "b = (3,) #一つの場合は,を最後つける必要がある\n",
        "\n",
        "b = a[2]                # 3番目の要素を取得\n",
        "print(b)"
      ],
      "metadata": {
        "id": "0NMaOmrbsoYd"
      },
      "execution_count": null,
      "outputs": []
    },
    {
      "cell_type": "markdown",
      "source": [
        ""
      ],
      "metadata": {
        "id": "jDLZewyUCss0"
      }
    },
    {
      "cell_type": "markdown",
      "source": [
        "##セット\n",
        "重複した値を持つことができない"
      ],
      "metadata": {
        "id": "Or69JqawC5y1"
      }
    },
    {
      "cell_type": "code",
      "source": [
        "a = [1, 1, 2, 3, 4, 4, 5, 5, 5]  # リスト\n",
        "print(a)\n",
        "\n",
        "b = set(a)  # セットに変換\n",
        "print(b)\n",
        "\n",
        "b.add(6)  # 値を追加\n",
        "print(b)\n",
        "\n",
        "b.remove(3)  # 値を削除\n",
        "print(b)"
      ],
      "metadata": {
        "id": "1kMhKZ71C4-a"
      },
      "execution_count": null,
      "outputs": []
    },
    {
      "cell_type": "markdown",
      "source": [
        "##内包表記\n",
        "```\n",
        "新たなリスト = [ 要素への処理 for 要素 in リスト]  \n",
        "```"
      ],
      "metadata": {
        "id": "qvw53PRNDAuB"
      }
    },
    {
      "cell_type": "code",
      "source": [
        "a = [1, 2, 3, 4, 5, 6]\n",
        "b = [c*3+1 for c in a]    # aの要素を3倍して1を足し新たなリストを作る\n",
        "print(b)"
      ],
      "metadata": {
        "id": "bI_BAj9zC5Ew"
      },
      "execution_count": null,
      "outputs": []
    },
    {
      "cell_type": "markdown",
      "source": [
        "##行列の計算"
      ],
      "metadata": {
        "id": "njSTn3YnHe8J"
      }
    },
    {
      "cell_type": "code",
      "source": [
        "# dot → 通常の積\n",
        "import numpy as np\n",
        "\n",
        "a = np.array([[0,1,2],\n",
        "             [1,2,3]])\n",
        "b = np.array([[2,1],[2,1],[2,1]])\n",
        "\n",
        "print(np.dot(a,b))"
      ],
      "metadata": {
        "colab": {
          "base_uri": "https://localhost:8080/"
        },
        "id": "Ubxt_N8bHeqJ",
        "outputId": "318b7c70-8ade-4243-aad2-743023857de5"
      },
      "execution_count": null,
      "outputs": [
        {
          "output_type": "stream",
          "name": "stdout",
          "text": [
            "[[ 6  3]\n",
            " [12  6]]\n"
          ]
        }
      ]
    },
    {
      "cell_type": "code",
      "source": [
        "# * 要素ごとの積\n",
        "a = np.array([[0,1,2],\n",
        "             [1,2,3]])\n",
        "b = np.array([[2,1,0],[2,1,0]])\n",
        "print(a*b)"
      ],
      "metadata": {
        "colab": {
          "base_uri": "https://localhost:8080/"
        },
        "id": "w54FK-ttHcvi",
        "outputId": "f8c2738f-4f41-43c2-9220-b6802ea13276"
      },
      "execution_count": null,
      "outputs": [
        {
          "output_type": "stream",
          "name": "stdout",
          "text": [
            "[[0 1 0]\n",
            " [2 2 0]]\n"
          ]
        }
      ]
    },
    {
      "cell_type": "code",
      "source": [
        "# 転置\n",
        "print(a.T)"
      ],
      "metadata": {
        "colab": {
          "base_uri": "https://localhost:8080/"
        },
        "id": "CGay3RjLISbB",
        "outputId": "45450a54-2b14-4f3c-d99a-6ba78b757fb4"
      },
      "execution_count": null,
      "outputs": [
        {
          "output_type": "stream",
          "name": "stdout",
          "text": [
            "[[0 1]\n",
            " [1 2]\n",
            " [2 3]]\n"
          ]
        }
      ]
    }
  ]
}