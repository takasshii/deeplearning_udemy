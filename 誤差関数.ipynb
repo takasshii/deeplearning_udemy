{
  "nbformat": 4,
  "nbformat_minor": 0,
  "metadata": {
    "colab": {
      "name": "誤差関数.ipynb",
      "provenance": [],
      "authorship_tag": "ABX9TyOjJY4S1luI1bnGyiDEeccz",
      "include_colab_link": true
    },
    "kernelspec": {
      "name": "python3",
      "display_name": "Python 3"
    },
    "language_info": {
      "name": "python"
    }
  },
  "cells": [
    {
      "cell_type": "markdown",
      "metadata": {
        "id": "view-in-github",
        "colab_type": "text"
      },
      "source": [
        "<a href=\"https://colab.research.google.com/github/takasshii/deeplearning_udemy/blob/main/%E8%AA%A4%E5%B7%AE%E9%96%A2%E6%95%B0.ipynb\" target=\"_parent\"><img src=\"https://colab.research.google.com/assets/colab-badge.svg\" alt=\"Open In Colab\"/></a>"
      ]
    },
    {
      "cell_type": "markdown",
      "source": [
        "##二乗和誤差"
      ],
      "metadata": {
        "id": "_-8eLI8vB4A3"
      }
    },
    {
      "cell_type": "code",
      "execution_count": 2,
      "metadata": {
        "colab": {
          "base_uri": "https://localhost:8080/"
        },
        "id": "qteYc7bsBxWZ",
        "outputId": "7d648ef7-0faf-4ca1-a6fe-e5201f749245"
      },
      "outputs": [
        {
          "output_type": "stream",
          "name": "stdout",
          "text": [
            "2.0\n"
          ]
        }
      ],
      "source": [
        "import numpy as np\n",
        "def square_sum(y,t):\n",
        "   return 1.0/2.0*np.sum(np.square(y-t)) #平行根の2乗\n",
        "\n",
        "y = np.array([2,2,2,2])\n",
        "t = np.array([1,1,1,1])\n",
        "print(square_sum(y,t))"
      ]
    },
    {
      "cell_type": "markdown",
      "source": [
        "##交差エントロピー誤差\n",
        "$$-\\sum_{k}^{}t_klog(y_k)$$\n",
        "$$(t：one-hot表現で表された正解, y:確率分布)$$\n",
        "\n",
        "one-hot表現は0か1のみを取るので、$t_k$によって1の項のみが影響を与えるようになる。\n",
        "\n",
        "$-logy$は、$y$が大きければ大きいほど値が0に近づく。\n",
        "\n",
        "0になると計算が続かなくなるため、1e-7を加える"
      ],
      "metadata": {
        "id": "qMTvkHk1DGO8"
      }
    },
    {
      "cell_type": "code",
      "source": [
        "import matplotlib.pyplot as plt\n",
        "\n",
        "x = np.linspace(0,1)\n",
        "y = -np.log(x)\n",
        "\n",
        "plt.plot(x,y)\n",
        "plt.show()"
      ],
      "metadata": {
        "colab": {
          "base_uri": "https://localhost:8080/",
          "height": 320
        },
        "id": "NAJS2cJpCP0g",
        "outputId": "4dfbea9f-06f8-4955-c183-a39f40a5a858"
      },
      "execution_count": 4,
      "outputs": [
        {
          "output_type": "stream",
          "name": "stderr",
          "text": [
            "/usr/local/lib/python3.7/dist-packages/ipykernel_launcher.py:4: RuntimeWarning: divide by zero encountered in log\n",
            "  after removing the cwd from sys.path.\n"
          ]
        },
        {
          "output_type": "display_data",
          "data": {
            "image/png": "[encoded data removed]",
            "text/plain": [
              "<Figure size 432x288 with 1 Axes>"
            ]
          },
          "metadata": {
            "needs_background": "light"
          }
        }
      ]
    },
    {
      "cell_type": "code",
      "source": [
        "import numpy as np\n",
        "\n",
        "def cross_entropy(y,t):\n",
        "  return -np.sum(t*np.log(y + 1e-7))"
      ],
      "metadata": {
        "id": "GzqDM6rGFZkN"
      },
      "execution_count": 6,
      "outputs": []
    }
  ]
}